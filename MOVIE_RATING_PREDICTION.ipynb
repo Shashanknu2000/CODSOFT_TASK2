{
 "cells": [
  {
   "cell_type": "markdown",
   "metadata": {
    "id": "yvS4c59m8Uae"
   },
   "source": [
    "**TASK 2: MOVIE RATING PREDICTION**\n",
    "\n",
    "Author: Shashank\n",
    "\n",
    "Domain: Data Science\n",
    "\n",
    "Batch: June 24"
   ]
  },
  {
   "cell_type": "code",
   "execution_count": 1,
   "metadata": {
    "id": "x1QQESai1RP2"
   },
   "outputs": [
    {
     "ename": "ModuleNotFoundError",
     "evalue": "No module named 'plotly.io'",
     "output_type": "error",
     "traceback": [
      "\u001b[1;31m---------------------------------------------------------------------------\u001b[0m",
      "\u001b[1;31mModuleNotFoundError\u001b[0m                       Traceback (most recent call last)",
      "Cell \u001b[1;32mIn[1], line 7\u001b[0m\n\u001b[0;32m      5\u001b[0m \u001b[38;5;28;01mimport\u001b[39;00m \u001b[38;5;21;01mmatplotlib\u001b[39;00m\u001b[38;5;21;01m.\u001b[39;00m\u001b[38;5;21;01mpyplot\u001b[39;00m \u001b[38;5;28;01mas\u001b[39;00m \u001b[38;5;21;01mplt\u001b[39;00m\n\u001b[0;32m      6\u001b[0m \u001b[38;5;28;01mimport\u001b[39;00m \u001b[38;5;21;01mseaborn\u001b[39;00m \u001b[38;5;28;01mas\u001b[39;00m \u001b[38;5;21;01msns\u001b[39;00m\n\u001b[1;32m----> 7\u001b[0m \u001b[38;5;28;01mimport\u001b[39;00m \u001b[38;5;21;01mplotly\u001b[39;00m\u001b[38;5;21;01m.\u001b[39;00m\u001b[38;5;21;01mexpress\u001b[39;00m \u001b[38;5;28;01mas\u001b[39;00m \u001b[38;5;21;01mpx\u001b[39;00m\n\u001b[0;32m      8\u001b[0m \u001b[38;5;28;01mimport\u001b[39;00m \u001b[38;5;21;01mwarnings\u001b[39;00m\n\u001b[0;32m      9\u001b[0m warnings\u001b[38;5;241m.\u001b[39mfilterwarnings(\u001b[38;5;124m'\u001b[39m\u001b[38;5;124mignore\u001b[39m\u001b[38;5;124m'\u001b[39m)\n",
      "File \u001b[1;32m~\\AppData\\Local\\Programs\\Python\\Python312\\Lib\\site-packages\\plotly\\express\\__init__.py:14\u001b[0m\n\u001b[0;32m      8\u001b[0m \u001b[38;5;28;01mif\u001b[39;00m pd \u001b[38;5;129;01mis\u001b[39;00m \u001b[38;5;28;01mNone\u001b[39;00m:\n\u001b[0;32m      9\u001b[0m     \u001b[38;5;28;01mraise\u001b[39;00m \u001b[38;5;167;01mImportError\u001b[39;00m(\n\u001b[0;32m     10\u001b[0m \u001b[38;5;250m        \u001b[39m\u001b[38;5;124;03m\"\"\"\\\u001b[39;00m\n\u001b[0;32m     11\u001b[0m \u001b[38;5;124;03mPlotly express requires pandas to be installed.\"\"\"\u001b[39;00m\n\u001b[0;32m     12\u001b[0m     )\n\u001b[1;32m---> 14\u001b[0m \u001b[38;5;28;01mfrom\u001b[39;00m \u001b[38;5;21;01m.\u001b[39;00m\u001b[38;5;21;01m_imshow\u001b[39;00m \u001b[38;5;28;01mimport\u001b[39;00m imshow\n\u001b[0;32m     15\u001b[0m \u001b[38;5;28;01mfrom\u001b[39;00m \u001b[38;5;21;01m.\u001b[39;00m\u001b[38;5;21;01m_chart_types\u001b[39;00m \u001b[38;5;28;01mimport\u001b[39;00m (  \u001b[38;5;66;03m# noqa: F401\u001b[39;00m\n\u001b[0;32m     16\u001b[0m     scatter,\n\u001b[0;32m     17\u001b[0m     scatter_3d,\n\u001b[1;32m   (...)\u001b[0m\n\u001b[0;32m     50\u001b[0m     density_mapbox,\n\u001b[0;32m     51\u001b[0m )\n\u001b[0;32m     54\u001b[0m \u001b[38;5;28;01mfrom\u001b[39;00m \u001b[38;5;21;01m.\u001b[39;00m\u001b[38;5;21;01m_core\u001b[39;00m \u001b[38;5;28;01mimport\u001b[39;00m (  \u001b[38;5;66;03m# noqa: F401\u001b[39;00m\n\u001b[0;32m     55\u001b[0m     set_mapbox_access_token,\n\u001b[0;32m     56\u001b[0m     defaults,\n\u001b[0;32m     57\u001b[0m     get_trendline_results,\n\u001b[0;32m     58\u001b[0m     NO_COLOR,\n\u001b[0;32m     59\u001b[0m )\n",
      "File \u001b[1;32m~\\AppData\\Local\\Programs\\Python\\Python312\\Lib\\site-packages\\plotly\\express\\_imshow.py:3\u001b[0m\n\u001b[0;32m      1\u001b[0m \u001b[38;5;28;01mimport\u001b[39;00m \u001b[38;5;21;01mplotly\u001b[39;00m\u001b[38;5;21;01m.\u001b[39;00m\u001b[38;5;21;01mgraph_objs\u001b[39;00m \u001b[38;5;28;01mas\u001b[39;00m \u001b[38;5;21;01mgo\u001b[39;00m\n\u001b[0;32m      2\u001b[0m \u001b[38;5;28;01mfrom\u001b[39;00m \u001b[38;5;21;01m_plotly_utils\u001b[39;00m\u001b[38;5;21;01m.\u001b[39;00m\u001b[38;5;21;01mbasevalidators\u001b[39;00m \u001b[38;5;28;01mimport\u001b[39;00m ColorscaleValidator\n\u001b[1;32m----> 3\u001b[0m \u001b[38;5;28;01mfrom\u001b[39;00m \u001b[38;5;21;01m.\u001b[39;00m\u001b[38;5;21;01m_core\u001b[39;00m \u001b[38;5;28;01mimport\u001b[39;00m apply_default_cascade, init_figure, configure_animation_controls\n\u001b[0;32m      4\u001b[0m \u001b[38;5;28;01mfrom\u001b[39;00m \u001b[38;5;21;01m.\u001b[39;00m\u001b[38;5;21;01mimshow_utils\u001b[39;00m \u001b[38;5;28;01mimport\u001b[39;00m rescale_intensity, _integer_ranges, _integer_types\n\u001b[0;32m      5\u001b[0m \u001b[38;5;28;01mimport\u001b[39;00m \u001b[38;5;21;01mpandas\u001b[39;00m \u001b[38;5;28;01mas\u001b[39;00m \u001b[38;5;21;01mpd\u001b[39;00m\n",
      "File \u001b[1;32m~\\AppData\\Local\\Programs\\Python\\Python312\\Lib\\site-packages\\plotly\\express\\_core.py:2\u001b[0m\n\u001b[0;32m      1\u001b[0m \u001b[38;5;28;01mimport\u001b[39;00m \u001b[38;5;21;01mplotly\u001b[39;00m\u001b[38;5;21;01m.\u001b[39;00m\u001b[38;5;21;01mgraph_objs\u001b[39;00m \u001b[38;5;28;01mas\u001b[39;00m \u001b[38;5;21;01mgo\u001b[39;00m\n\u001b[1;32m----> 2\u001b[0m \u001b[38;5;28;01mimport\u001b[39;00m \u001b[38;5;21;01mplotly\u001b[39;00m\u001b[38;5;21;01m.\u001b[39;00m\u001b[38;5;21;01mio\u001b[39;00m \u001b[38;5;28;01mas\u001b[39;00m \u001b[38;5;21;01mpio\u001b[39;00m\n\u001b[0;32m      3\u001b[0m \u001b[38;5;28;01mfrom\u001b[39;00m \u001b[38;5;21;01mcollections\u001b[39;00m \u001b[38;5;28;01mimport\u001b[39;00m namedtuple, OrderedDict\n\u001b[0;32m      4\u001b[0m \u001b[38;5;28;01mfrom\u001b[39;00m \u001b[38;5;21;01m.\u001b[39;00m\u001b[38;5;21;01m_special_inputs\u001b[39;00m \u001b[38;5;28;01mimport\u001b[39;00m IdentityMap, Constant, Range\n",
      "\u001b[1;31mModuleNotFoundError\u001b[0m: No module named 'plotly.io'"
     ]
    }
   ],
   "source": [
    "#importing libraries\n",
    "\n",
    "import pandas as pd\n",
    "import numpy as np\n",
    "import matplotlib.pyplot as plt\n",
    "import seaborn as sns\n",
    "import plotly.express as px\n",
    "import warnings\n",
    "warnings.filterwarnings('ignore')"
   ]
  },
  {
   "cell_type": "code",
   "execution_count": null,
   "metadata": {
    "colab": {
     "base_uri": "https://localhost:8080/",
     "height": 519
    },
    "id": "yfGq9pQJ9Ga5",
    "outputId": "1179b4c5-13f2-474b-ec07-2bce64fa6a15"
   },
   "outputs": [],
   "source": [
    "df=pd.read_csv('IMDb Movies India.csv',encoding='unicode_escape')\n",
    "df.head(10)"
   ]
  },
  {
   "cell_type": "code",
   "execution_count": null,
   "metadata": {
    "colab": {
     "base_uri": "https://localhost:8080/"
    },
    "id": "8QFwjam59UHO",
    "outputId": "d9a8452a-ef34-4fd0-9d32-04627ea8860f"
   },
   "outputs": [],
   "source": [
    "df.shape"
   ]
  },
  {
   "cell_type": "markdown",
   "metadata": {
    "id": "-trnSlpd-LQF"
   },
   "source": [
    "Data Cleaning"
   ]
  },
  {
   "cell_type": "code",
   "execution_count": null,
   "metadata": {
    "colab": {
     "base_uri": "https://localhost:8080/"
    },
    "id": "Mdi5Lygk-Ggc",
    "outputId": "771754a4-d048-4de0-93a4-6adee9612cb7"
   },
   "outputs": [],
   "source": [
    "df.isnull().sum()"
   ]
  },
  {
   "cell_type": "code",
   "execution_count": null,
   "metadata": {
    "colab": {
     "base_uri": "https://localhost:8080/"
    },
    "id": "f0UdAfhF-Rtj",
    "outputId": "a1659f62-6e55-4448-ae82-c7eb439a520e"
   },
   "outputs": [],
   "source": [
    "df.info()"
   ]
  },
  {
   "cell_type": "code",
   "execution_count": null,
   "metadata": {
    "colab": {
     "base_uri": "https://localhost:8080/"
    },
    "id": "U8MbCI3l-Up6",
    "outputId": "cf1ec891-7d8f-4f93-f3f0-04de858f7e7d"
   },
   "outputs": [],
   "source": [
    "df.duplicated().sum()"
   ]
  },
  {
   "cell_type": "code",
   "execution_count": null,
   "metadata": {
    "id": "w1j3UO3k--ZT"
   },
   "outputs": [],
   "source": [
    "df.drop_duplicates(inplace=True)"
   ]
  },
  {
   "cell_type": "code",
   "execution_count": null,
   "metadata": {
    "id": "Jn47zEGT_EmH"
   },
   "outputs": [],
   "source": [
    "df.dropna(inplace=True)\n"
   ]
  },
  {
   "cell_type": "code",
   "execution_count": null,
   "metadata": {
    "colab": {
     "base_uri": "https://localhost:8080/"
    },
    "id": "9uZ5w0aZ_HFg",
    "outputId": "0c6fcc99-5f6e-4a71-c3f1-3828db3d74da"
   },
   "outputs": [],
   "source": [
    "df.shape"
   ]
  },
  {
   "cell_type": "code",
   "execution_count": null,
   "metadata": {
    "colab": {
     "base_uri": "https://localhost:8080/"
    },
    "id": "aJXHD3vD_IMT",
    "outputId": "91b1f903-0124-473e-ef4c-71ff7ceda25a"
   },
   "outputs": [],
   "source": [
    "df.isnull().sum()"
   ]
  },
  {
   "cell_type": "markdown",
   "metadata": {
    "id": "08NqGbZ3_Rxf"
   },
   "source": [
    "Data Pre-Processing"
   ]
  },
  {
   "cell_type": "code",
   "execution_count": null,
   "metadata": {
    "id": "bUcJ4VM8_MpJ"
   },
   "outputs": [],
   "source": [
    "# Removing negative sign from year column and convert to numeric format\n",
    "df['Year']=df['Year'].abs().astype(int)"
   ]
  },
  {
   "cell_type": "code",
   "execution_count": null,
   "metadata": {
    "id": "5rx8T6E0AL_w"
   },
   "outputs": [],
   "source": [
    "# Removing 'min' word from duration column and converting it to numeric format\n",
    "df['Duration']=df['Duration'].str.replace(' min','').astype(int)"
   ]
  },
  {
   "cell_type": "code",
   "execution_count": null,
   "metadata": {
    "id": "6gRnFy_IDKY9"
   },
   "outputs": [],
   "source": [
    "# Splitting the Genre by comma(,) to keep unique genres and replacing the null values with mode\n",
    "\n",
    "# Step 1: Split the Genre column into lists\n",
    "df['Genre']=df['Genre'].str.split(', ')\n",
    "\n",
    "# Step 2: Explode the lists into separate rows\n",
    "df=df.explode('Genre')\n",
    "\n",
    "# Step 3: Replace null values with mode\n",
    "df['Genre'].fillna(df['Genre'].mode()[0],inplace=True)"
   ]
  },
  {
   "cell_type": "code",
   "execution_count": null,
   "metadata": {
    "id": "IobfyZyADKPX"
   },
   "outputs": [],
   "source": [
    "# Convert votes column to numeric and remove comma(,) to keep only numeric part\n",
    "df['Votes']=df['Votes'].str.replace(',','').astype(int)"
   ]
  },
  {
   "cell_type": "code",
   "execution_count": null,
   "metadata": {
    "colab": {
     "base_uri": "https://localhost:8080/",
     "height": 563
    },
    "id": "qqN-YDXO_pm2",
    "outputId": "d30877b6-3935-4f8e-f2bc-23294fc14eff"
   },
   "outputs": [],
   "source": [
    "df"
   ]
  },
  {
   "cell_type": "code",
   "execution_count": null,
   "metadata": {
    "colab": {
     "base_uri": "https://localhost:8080/"
    },
    "id": "8UCfVdsM_rsN",
    "outputId": "a5678a9b-ed87-47c1-b4d4-558f6529828f"
   },
   "outputs": [],
   "source": [
    "df.info()"
   ]
  },
  {
   "cell_type": "markdown",
   "metadata": {
    "id": "j5UULFUKHqXC"
   },
   "source": [
    "Data Visualizing:\n",
    "\n",
    "It is done to show the relationships present in between the features present in the dataset"
   ]
  },
  {
   "cell_type": "code",
   "execution_count": null,
   "metadata": {
    "colab": {
     "base_uri": "https://localhost:8080/",
     "height": 542
    },
    "id": "RpFIIGEtAmVh",
    "outputId": "f456d1eb-f0fd-4620-cf7b-1eef4fe60bdb"
   },
   "outputs": [],
   "source": [
    "# Histogram shows distribution of years and its probablity density\n",
    "\n",
    "year_hist=px.histogram(df, x='Year', histnorm='probability density', nbins=40)\n",
    "year_hist.show()"
   ]
  },
  {
   "cell_type": "code",
   "execution_count": null,
   "metadata": {
    "colab": {
     "base_uri": "https://localhost:8080/",
     "height": 424
    },
    "id": "OwvsRveqIPSl",
    "outputId": "f14d54f8-a346-4ef1-c77e-53e35925826c"
   },
   "outputs": [],
   "source": [
    "# Group the data by (year,genre) and calculate the average rating\n",
    "avg_rating_df=df.groupby(['Year','Genre'])['Rating'].mean().reset_index()\n",
    "avg_rating_df"
   ]
  },
  {
   "cell_type": "code",
   "execution_count": null,
   "metadata": {
    "colab": {
     "base_uri": "https://localhost:8080/"
    },
    "id": "OPCEXpjnK_yY",
    "outputId": "492008c5-2677-49ea-9e1d-1fd69923c27e"
   },
   "outputs": [],
   "source": [
    "# Top 10 Genres\n",
    "top_genres=df['Genre'].value_counts().head(10).index\n",
    "top_genres"
   ]
  },
  {
   "cell_type": "code",
   "execution_count": null,
   "metadata": {
    "colab": {
     "base_uri": "https://localhost:8080/",
     "height": 424
    },
    "id": "91359sTwUt9D",
    "outputId": "78fa1e3e-beae-435c-dc3d-1c4bcc7a8b35"
   },
   "outputs": [],
   "source": [
    "# Filtering to include only top 10 Genres\n",
    "avg_rating_df=avg_rating_df[avg_rating_df['Genre'].isin(top_genres)]\n",
    "avg_rating_df"
   ]
  },
  {
   "cell_type": "code",
   "execution_count": null,
   "metadata": {
    "colab": {
     "base_uri": "https://localhost:8080/",
     "height": 542
    },
    "id": "h4ijFvaXOK-g",
    "outputId": "7b3f323d-f299-4a82-82b4-1a96bebbff83"
   },
   "outputs": [],
   "source": [
    "#Line plot\n",
    "figure=px.line(avg_rating_df, x='Year', y='Rating', color='Genre', title='Average Rating by Year for Top 10 Genre')\n",
    "figure.show()"
   ]
  },
  {
   "cell_type": "code",
   "execution_count": null,
   "metadata": {
    "colab": {
     "base_uri": "https://localhost:8080/",
     "height": 542
    },
    "id": "RRT9kDsESpl6",
    "outputId": "a29532a2-a6d6-4b19-f3bd-dc7511b2f50d"
   },
   "outputs": [],
   "source": [
    "# Histogram shows distribution of ratings and its probablity density\n",
    "rating_hist=px.histogram(df, x='Rating', histnorm='probability density', nbins=40)\n",
    "rating_hist.show()"
   ]
  },
  {
   "cell_type": "markdown",
   "metadata": {
    "id": "td4Ti39aYjKW"
   },
   "source": [
    "Feature Scaling"
   ]
  },
  {
   "cell_type": "code",
   "execution_count": null,
   "metadata": {
    "id": "ODCMSL5BWf3A"
   },
   "outputs": [],
   "source": [
    "# Importing necessary libraries\n",
    "from sklearn.model_selection import train_test_split\n",
    "from sklearn.linear_model import LinearRegression\n",
    "from sklearn.metrics import mean_squared_error, r2_score, mean_absolute_error"
   ]
  },
  {
   "cell_type": "code",
   "execution_count": null,
   "metadata": {
    "id": "gPAh1swSoYgc"
   },
   "outputs": [],
   "source": [
    "df.drop('Name',axis=1,inplace=True)"
   ]
  },
  {
   "cell_type": "code",
   "execution_count": null,
   "metadata": {
    "colab": {
     "base_uri": "https://localhost:8080/",
     "height": 206
    },
    "id": "bj3XdAifoqz-",
    "outputId": "22738c52-f956-4d1b-b4eb-7839008c4bbf"
   },
   "outputs": [],
   "source": [
    "df.head()"
   ]
  },
  {
   "cell_type": "code",
   "execution_count": null,
   "metadata": {
    "id": "7c6asj7FosAh"
   },
   "outputs": [],
   "source": [
    "# Grouping the columns with their average rating and creating a new feature\n",
    "\n",
    "genre_mean_rating = df.groupby('Genre')['Rating'].transform('mean')\n",
    "df['Genre_mean_rating']=genre_mean_rating\n",
    "\n",
    "director_mean_rating = df.groupby('Director')['Rating'].transform('mean')\n",
    "df['Director_mean_rating']=director_mean_rating\n",
    "\n",
    "actor1_mean_rating = df.groupby('Actor 1')['Rating'].transform('mean')\n",
    "df['Actor1_mean_rating']=actor1_mean_rating\n",
    "\n",
    "actor2_mean_rating = df.groupby('Actor 2')['Rating'].transform('mean')\n",
    "df['Actor2_mean_rating']=actor2_mean_rating\n",
    "\n",
    "actor3_mean_rating = df.groupby('Actor 3')['Rating'].transform('mean')\n",
    "df['Actor3_mean_rating']=actor3_mean_rating"
   ]
  },
  {
   "cell_type": "code",
   "execution_count": null,
   "metadata": {
    "colab": {
     "base_uri": "https://localhost:8080/",
     "height": 365
    },
    "id": "yLOY_z_hxUjK",
    "outputId": "d6a97d17-25fd-4116-e1da-49f6d6cecc40"
   },
   "outputs": [],
   "source": [
    "df.head()"
   ]
  },
  {
   "cell_type": "code",
   "execution_count": null,
   "metadata": {
    "id": "05H5lymcyIQ_"
   },
   "outputs": [],
   "source": [
    "x=df[['Year','Duration','Votes','Genre_mean_rating','Director_mean_rating','Actor1_mean_rating','Actor2_mean_rating','Actor3_mean_rating']]\n",
    "y=df['Rating']"
   ]
  },
  {
   "cell_type": "code",
   "execution_count": null,
   "metadata": {
    "id": "RjNil1wtyVXA"
   },
   "outputs": [],
   "source": [
    "x_train,x_test,y_train,y_test=train_test_split(x,y,test_size=0.2,random_state=42)"
   ]
  },
  {
   "cell_type": "markdown",
   "metadata": {
    "id": "KgDch09OyjEa"
   },
   "source": [
    "Model Building"
   ]
  },
  {
   "cell_type": "code",
   "execution_count": null,
   "metadata": {
    "colab": {
     "base_uri": "https://localhost:8080/",
     "height": 75
    },
    "id": "xVbVnikWyWyg",
    "outputId": "d060330c-d7d5-4cf0-b6b3-0213929812a6"
   },
   "outputs": [],
   "source": [
    "lr=LinearRegression()\n",
    "lr.fit(x_train,y_train)"
   ]
  },
  {
   "cell_type": "code",
   "execution_count": null,
   "metadata": {
    "id": "oCVFa6K4yYkR"
   },
   "outputs": [],
   "source": [
    "pred=lr.predict(x_test)"
   ]
  },
  {
   "cell_type": "code",
   "execution_count": null,
   "metadata": {
    "colab": {
     "base_uri": "https://localhost:8080/"
    },
    "id": "BWfZSGJoyrfX",
    "outputId": "e2b95acd-bb3d-4741-e396-31c01758b0fe"
   },
   "outputs": [],
   "source": [
    "pred"
   ]
  },
  {
   "cell_type": "code",
   "execution_count": null,
   "metadata": {
    "colab": {
     "base_uri": "https://localhost:8080/"
    },
    "id": "PvmRWoRiyt5o",
    "outputId": "b4d92cca-f3b1-4a84-a75b-3a67102095e2"
   },
   "outputs": [],
   "source": [
    "y_test"
   ]
  },
  {
   "cell_type": "code",
   "execution_count": null,
   "metadata": {
    "colab": {
     "base_uri": "https://localhost:8080/"
    },
    "id": "bBWz018Hyx60",
    "outputId": "fab66986-ade6-41a6-8796-bfb3d983a913"
   },
   "outputs": [],
   "source": [
    "# Evaluating the performance of the model\n",
    "\n",
    "# print(\"Accuracy Score: \",accuracy_score(y_test,pred))\n",
    "print(\"Mean Squared Error: \",mean_squared_error(y_test,pred))\n",
    "print(\"Mean Absolute Error: \",mean_absolute_error(y_test,pred))\n",
    "print(\"R2 Score: \",r2_score(y_test,pred))"
   ]
  },
  {
   "cell_type": "markdown",
   "metadata": {
    "id": "mPeSr8cL0USX"
   },
   "source": [
    "Model Testing"
   ]
  },
  {
   "cell_type": "code",
   "execution_count": null,
   "metadata": {
    "colab": {
     "base_uri": "https://localhost:8080/",
     "height": 206
    },
    "id": "lNfFs8ggzSCL",
    "outputId": "aaf907a7-741d-4eb2-afc7-bd337cb227f5"
   },
   "outputs": [],
   "source": [
    "x.head()"
   ]
  },
  {
   "cell_type": "code",
   "execution_count": null,
   "metadata": {
    "colab": {
     "base_uri": "https://localhost:8080/"
    },
    "id": "oz4xUcas0ahw",
    "outputId": "ebdfea6b-bf9b-4290-bf4e-ac2d4f105c8e"
   },
   "outputs": [],
   "source": [
    "y.head()"
   ]
  },
  {
   "cell_type": "code",
   "execution_count": null,
   "metadata": {
    "colab": {
     "base_uri": "https://localhost:8080/",
     "height": 89
    },
    "id": "Oz9GO4-c0biW",
    "outputId": "7881de98-cbdc-46d8-fe64-a732daa273ae"
   },
   "outputs": [],
   "source": [
    "data={'Year':2018,\n",
    "      'Duration':120,\n",
    "      'Votes':1234,\n",
    "      'Genre_mean_rating':7.3,\n",
    "      'Director_mean_rating':5.3,\n",
    "      'Actor1_mean_rating':6.5,\n",
    "      'Actor2_mean_rating':5.8,\n",
    "      'Actor3_mean_rating':9}\n",
    "test=pd.DataFrame(data,index=[0])\n",
    "test"
   ]
  },
  {
   "cell_type": "code",
   "execution_count": null,
   "metadata": {
    "colab": {
     "base_uri": "https://localhost:8080/"
    },
    "id": "FC8TRR3K0-3X",
    "outputId": "ae0e3430-c8ad-4dff-961e-46bdcb05f928"
   },
   "outputs": [],
   "source": [
    "test_pred=lr.predict(test)\n",
    "print(\"Predicted Rating: \",test_pred[0])"
   ]
  },
  {
   "cell_type": "code",
   "execution_count": null,
   "metadata": {
    "id": "Tzd7CfYa6Ouk"
   },
   "outputs": [],
   "source": []
  }
 ],
 "metadata": {
  "colab": {
   "provenance": []
  },
  "kernelspec": {
   "display_name": "Python 3 (ipykernel)",
   "language": "python",
   "name": "python3"
  },
  "language_info": {
   "codemirror_mode": {
    "name": "ipython",
    "version": 3
   },
   "file_extension": ".py",
   "mimetype": "text/x-python",
   "name": "python",
   "nbconvert_exporter": "python",
   "pygments_lexer": "ipython3",
   "version": "3.12.4"
  }
 },
 "nbformat": 4,
 "nbformat_minor": 4
}
